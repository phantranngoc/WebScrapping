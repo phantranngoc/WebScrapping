{
 "cells": [
  {
   "cell_type": "markdown",
   "id": "4d776f44",
   "metadata": {},
   "source": [
    "# Web Scraping "
   ]
  },
  {
   "cell_type": "code",
   "execution_count": 1,
   "id": "e17f22da",
   "metadata": {},
   "outputs": [],
   "source": [
    "# import the BeautifulSoup library to \"pull the data out of HTML and XML files.\" (use for web scraping purpose)\n",
    "from bs4 import BeautifulSoup\n",
    "import requests\n",
    "import csv"
   ]
  },
  {
   "cell_type": "code",
   "execution_count": 2,
   "id": "385512d4",
   "metadata": {},
   "outputs": [],
   "source": [
    "# Pull out the data from web=> transfer to varible in python with parser\n",
    "page_to_scape = requests.get(\"https://quotes.toscrape.com/\")\n",
    "soup = BeautifulSoup(page_to_scape.text, \"html.parser\")"
   ]
  },
  {
   "cell_type": "code",
   "execution_count": 3,
   "id": "8b395603",
   "metadata": {},
   "outputs": [],
   "source": [
    "# Extract the data & store the list as varible\n",
    "quotes = soup.findAll(\"span\", attrs={\"class\": \"text\"})\n",
    "authors = soup.findAll (\"small\", attrs = {\"class\": \"author\"})"
   ]
  },
  {
   "cell_type": "code",
   "execution_count": 4,
   "id": "3d4a6624",
   "metadata": {},
   "outputs": [
    {
     "name": "stdout",
     "output_type": "stream",
     "text": [
      "“The world as we have created it is a process of our thinking. It cannot be changed without changing our thinking.” _ Albert Einstein\n",
      "“It is our choices, Harry, that show what we truly are, far more than our abilities.” _ J.K. Rowling\n",
      "“There are only two ways to live your life. One is as though nothing is a miracle. The other is as though everything is a miracle.” _ Albert Einstein\n",
      "“The person, be it gentleman or lady, who has not pleasure in a good novel, must be intolerably stupid.” _ Jane Austen\n",
      "“Imperfection is beauty, madness is genius and it's better to be absolutely ridiculous than absolutely boring.” _ Marilyn Monroe\n",
      "“Try not to become a man of success. Rather become a man of value.” _ Albert Einstein\n",
      "“It is better to be hated for what you are than to be loved for what you are not.” _ André Gide\n",
      "“I have not failed. I've just found 10,000 ways that won't work.” _ Thomas A. Edison\n",
      "“A woman is like a tea bag; you never know how strong it is until it's in hot water.” _ Eleanor Roosevelt\n",
      "“A day without sunshine is like, you know, night.” _ Steve Martin\n"
     ]
    }
   ],
   "source": [
    "# open the file in the write mode\n",
    "file = open(\"scaped_quotes.csv\", \"w\")\n",
    "\n",
    "# create the csv writer\n",
    "writer = csv.writer(file)\n",
    "\n",
    "# write a row to the csv file\n",
    "writer.writerow([\"QUOTES\", \"AUTHORS\"])\n",
    "\n",
    "# write the loop \n",
    "\n",
    "for quote, author in zip(quotes, authors):\n",
    "    print(quote.text+ \" _ \"+ author.text)\n",
    "    writer.writerow([quote.text, author.text])\n",
    "\n",
    "# close the file\n",
    "file.close()"
   ]
  },
  {
   "cell_type": "code",
   "execution_count": null,
   "id": "6fb2d0e2",
   "metadata": {},
   "outputs": [],
   "source": []
  }
 ],
 "metadata": {
  "kernelspec": {
   "display_name": "Python 3 (ipykernel)",
   "language": "python",
   "name": "python3"
  },
  "language_info": {
   "codemirror_mode": {
    "name": "ipython",
    "version": 3
   },
   "file_extension": ".py",
   "mimetype": "text/x-python",
   "name": "python",
   "nbconvert_exporter": "python",
   "pygments_lexer": "ipython3",
   "version": "3.9.7"
  }
 },
 "nbformat": 4,
 "nbformat_minor": 5
}
